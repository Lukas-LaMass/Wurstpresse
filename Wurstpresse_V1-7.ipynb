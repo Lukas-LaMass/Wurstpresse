{
 "cells": [
  {
   "cell_type": "markdown",
   "metadata": {},
   "source": [
    "# Wurstpresse\n",
    "## Skript zur Vorbereitung des Bildimports in iDAI.Objects bzw. Arachne\n",
    "*Version 1.7 - Dezember 2022*\n",
    "\n",
    "*von Lukas Lammers für's FAIR.rdm im Spp2143 \"Entangled Africa\"*\n",
    "\n",
    "Die Codeblöcke sind jeweils der Reihe nach einzeln auszuführen!\n",
    "Es gibt vier Abschnitte:\n",
    "Die Vorbereitungsphase muss bei jedem Durchlauf ausgeführt werden.\n",
    "Der erste Teil füllt automatisch Importtabellen mit den zugehörigen Seriennummern aus und gibt eine sepatate CSV aus, in denen alle Bilder mit Materialangeben oder unbekannte Fundplatzzuordnungen gesammelt sind.\n",
    "Der zweite Teil benennt Bilder automatisch um und verschiebt sie in Ordnerstrukturen auf einem anderen Server.\n",
    "Im experimentellen Abschnitt und unter Extras befinden sich rudimentäre Codeblöcke. Diese sollten NICHT ausgeführt werden!"
   ]
  },
  {
   "cell_type": "markdown",
   "metadata": {},
   "source": [
    "### VORBEREITUNGSPHASE 1 - Import Modules\n",
    "Pandas und os werden für das Skript benötigt.\n",
    "Die pakete können einfach über die Konsole bspw. mit pip install pandas installiert werden.\n",
    "Python und pip wird dazu benötigt (Falls noch nicht installiert: Googlen wie.)"
   ]
  },
  {
   "cell_type": "code",
   "execution_count": null,
   "metadata": {},
   "outputs": [],
   "source": [
    "import sys\n",
    "import numpy as np\n",
    "import pandas as pd\n",
    "import os\n",
    "import csv"
   ]
  },
  {
   "cell_type": "markdown",
   "metadata": {},
   "source": [
    "##### Check 1 - Module importiert?"
   ]
  },
  {
   "cell_type": "code",
   "execution_count": null,
   "metadata": {},
   "outputs": [],
   "source": [
    "if \"numpy\" in sys.modules and \"pandas\" in sys.modules and \"os\" in sys.modules and \"csv\" in sys.modules:\n",
    "    print(\"Check 1 erfolgreich.\")\n",
    "else:\n",
    "    print(\"Fehler beim Import der Module. Arbeit abbrechen und Skript prüfen.\")"
   ]
  },
  {
   "cell_type": "markdown",
   "metadata": {},
   "source": [
    "### VORBEREITUNGSPHASE 2 - Verzeichnispfade\n",
    "Es gibt das Quellverzeichnis, in dem die zu verarbeitenden Bilder liegen. Das Zielverzeichnis ist der Pfad, wo die Ordnerbäume zum Import erstellt werden sollen und in den die umbenannten Bilder zum Schluss einsortiert werden.\n",
    "\n",
    "Im Arbeitsverzeichnis muss die Tabelle mit dem aktuellen Stand der laufenden Nummer zu jeder Seriennummer liegen (Stand_vor_ImportX.csv) und die Konkordanztabelle, welche Seriennumer zu welcher Fundortbezeichnung gehört (Seriennummer_Titel_Konkordanz.csv). Außerdem ist die Tabelle anzugeben, in der die Metadaten der Bilder, mindestens ihre Fundplatzhierarchie und Materialangaben, enthalten sind und in der die Seriennumern eingetragen werden können bzw. die Tabelle mit den aussortierten Bildern generiert werden kann."
   ]
  },
  {
   "cell_type": "code",
   "execution_count": null,
   "metadata": {},
   "outputs": [],
   "source": [
    "#Hier die Verzeichnispfade eingeben, wo die umzubennenenden Bilder liegen und wo sie hin sollen\n",
    "quellverzeichnis = \"F:\\\\AAArC\\\\FAIR.rdm AAArC 5\\\\Empfang\\\\Importe\\\\P11-AAArC 4-HBI\\\\P11_Bildimport\\\\P11_Bilddateien\\\\Aegypten_ab_Fuhre19\\\\AAArC_DDB_F23-F26_DIA110263-112898_fertig\"\n",
    "zielverzeichnis = \"F:\\\\2022-12-02_Testlauf\\\\Wurst_Fuhre_23-26\"\n",
    "\n",
    "#Hier den Verzeichnispfad des Arbeitsordners angeben.\n",
    "arbeitsverzeichnis = \"F:\\\\2022-12-02_Testlauf\"\n",
    "\n",
    "#Hier die Dateinamen der Bildtabelle mit Fundorthierarchie, des Stands und der Seriennummernkonkordanz angeben.\n",
    "bildtabelle = \"Topo_Konkordanz_F23-F26.csv\"\n",
    "stand = \"Stand_vor_Fuhre_23-26.csv\"\n",
    "seriennummernkonkordanz = \"Seriennummer_Titel_Konkordanz.csv\""
   ]
  },
  {
   "cell_type": "markdown",
   "metadata": {},
   "source": [
    "##### Check 2 - Pfade korrekt angegeben?"
   ]
  },
  {
   "cell_type": "code",
   "execution_count": null,
   "metadata": {},
   "outputs": [],
   "source": [
    "if os.path.exists(quellverzeichnis):\n",
    "    print(\"Quellverzeichnispfad OK.\")\n",
    "else:\n",
    "    print(\"Quellverzeichnis nicht gefunden! Schreibweise oder Anzahl der Slashes überprüfen!\")\n",
    "if os.path.exists(zielverzeichnis):\n",
    "    print(\"Zielverzeichnispfad OK.\")\n",
    "else:\n",
    "    print(\"Zielverzeichnis nicht gefunden! Schreibweise oder Anzahl der Slashes überprüfen!\")\n",
    "if os.path.exists(arbeitsverzeichnis):\n",
    "    print(\"Arbeitsverzeichnispfad OK.\")\n",
    "else:\n",
    "    print(\"Arbeitsverzeichnis nicht gefunden! Schreibweise oder Anzahl der Slashes überprüfen!\")\n",
    "if os.path.exists(f\"{arbeitsverzeichnis}\\\\{bildtabelle}\"):\n",
    "    print(\"Bildtabelle OK.\")\n",
    "else:\n",
    "    print(\"Bildtabelle nicht gefunden! Schreibweise oder Anzahl der Slashes überprüfen!\")\n",
    "if os.path.exists(f\"{arbeitsverzeichnis}\\\\{stand}\"):\n",
    "    print(\"Stand OK.\")\n",
    "else:\n",
    "    print(\"Tabelle mit Stand nicht gefunden! Schreibweise oder Anzahl der Slashes überprüfen!\")\n",
    "if os.path.exists(f\"{arbeitsverzeichnis}\\\\{seriennummernkonkordanz}\"):\n",
    "    print(\"Seriennummernkonkordanz OK.\")\n",
    "else:\n",
    "    print(\"Seriennummernkonkordanz nicht gefunden! Schreibweise oder Anzahl der Slashes überprüfen!\")"
   ]
  },
  {
   "cell_type": "markdown",
   "metadata": {},
   "source": [
    "### TEIL 1 - Seriennummernzuordnung\n",
    "#### 1.1 Seriennummern-Titel-Konkordanz einlesen"
   ]
  },
  {
   "cell_type": "code",
   "execution_count": null,
   "metadata": {},
   "outputs": [],
   "source": [
    "df_konkordanz = pd.read_csv(f\"{arbeitsverzeichnis}\\\\{seriennummernkonkordanz}\", sep=\",\", dtype=\"string\")\n",
    "alle_seriennummern = list(df_konkordanz[\"Topographien\"])\n",
    "alle_titel = list(df_konkordanz[\"title\"])\n",
    "seriennummern_titel_konkordanz_dict = dict(zip(alle_titel, alle_seriennummern))\n",
    "print(seriennummern_titel_konkordanz_dict)"
   ]
  },
  {
   "cell_type": "markdown",
   "metadata": {},
   "source": [
    "#### 1.2 CSV mit Fundstellen einlesen und Spalte für Arachne-Snr hinzufügen"
   ]
  },
  {
   "cell_type": "code",
   "execution_count": null,
   "metadata": {},
   "outputs": [],
   "source": [
    "df_import = pd.read_csv(f\"{arbeitsverzeichnis}\\\\{bildtabelle}\", sep=\",\", dtype=\"string\", encoding=\"utf-8\")\n",
    "df_import[\"Arachne-Snr\"]=\"ka\"\n",
    "df_import = df_import.fillna(\"ka\")"
   ]
  },
  {
   "cell_type": "code",
   "execution_count": null,
   "metadata": {},
   "outputs": [],
   "source": [
    "print(df_import)"
   ]
  },
  {
   "cell_type": "markdown",
   "metadata": {},
   "source": [
    "#### 1.3 Noch zu importierende Seriennummern in separater CSV sammeln"
   ]
  },
  {
   "cell_type": "code",
   "execution_count": null,
   "metadata": {},
   "outputs": [],
   "source": [
    "df_artefakte = pd.DataFrame()\n",
    "df_fehler = pd.DataFrame()\n",
    "print(df_artefakte)\n",
    "print(df_fehler)"
   ]
  },
  {
   "cell_type": "markdown",
   "metadata": {},
   "source": [
    "#### 1.4 Suchen und einfügen der benötigen Seriennummer bzw. aussortieren von Datensätzen mit Materialangabe und fehlerhaften Zuordnungen"
   ]
  },
  {
   "cell_type": "code",
   "execution_count": null,
   "metadata": {},
   "outputs": [],
   "source": [
    "zeile = -1\n",
    "for dia in df_import.iterrows():\n",
    "    zeile = zeile +1\n",
    "    material = df_import.at[zeile, \"Material\"]\n",
    "    fundort1 = df_import.at[zeile, \"Fundort1\"]\n",
    "    fundort2 = df_import.at[zeile, \"Fundort2\"]\n",
    "    fundlandschaft = df_import.at[zeile, \"Fundlandschaft\"]\n",
    "    fundland = df_import.at[zeile, \"Fundland\"]\n",
    "    if material != \"ka\":\n",
    "        print(\"Neue Seriennummer benötigt!\")\n",
    "        df_import.loc[zeile,\"Arachne-Snr\"] = \"Neuen Datensatz anlegen\"\n",
    "        df_artefakte = df_artefakte.append(df_import.iloc[[zeile]])\n",
    "    elif fundort1 == \"ka\" and fundort2 != \"ka\":\n",
    "        if fundort2 not in seriennummern_titel_konkordanz_dict:\n",
    "            print(\"Unbekannte Fundplatzzuordnung!\")\n",
    "            df_import.loc[zeile,\"Arachne-Snr\"] = \"Unbekannte Fundplatzzuordnung!\"\n",
    "            df_fehler = df_fehler.append(df_import.iloc[[zeile]])\n",
    "        else:\n",
    "            print(\"Nehme Seriennummer von Fundort2...\")\n",
    "            arachnesnr = seriennummern_titel_konkordanz_dict[fundort2]\n",
    "            df_import.loc[zeile,\"Arachne-Snr\"] = arachnesnr\n",
    "    elif fundort1 != \"ka\":\n",
    "        if fundort1 not in seriennummern_titel_konkordanz_dict:\n",
    "            print(\"Unbekannte Fundplatzzuordnung!\")\n",
    "            df_import.loc[zeile,\"Arachne-Snr\"] = \"Unbekannte Fundplatzzuordnung!\"\n",
    "            df_fehler = df_fehler.append(df_import.iloc[[zeile]])\n",
    "        else:\n",
    "            print(\"Nehme Seriennummer von Fundort1...\")\n",
    "            arachnesnr = seriennummern_titel_konkordanz_dict[fundort1]\n",
    "            df_import.loc[zeile,\"Arachne-Snr\"] = arachnesnr\n",
    "    elif fundort1 == \"ka\" and fundort2 == \"ka\" and fundlandschaft != \"ka\":\n",
    "        if fundlandschaft not in seriennummern_titel_konkordanz_dict:\n",
    "            print(\"Unbekannte Fundplatzzuordnung!\")\n",
    "            df_import.loc[zeile,\"Arachne-Snr\"] = \"Unbekannte Fundplatzzuordnung!\"\n",
    "            df_fehler = df_fehler.append(df_import.iloc[[zeile]])\n",
    "        else:\n",
    "            print(\"Nehme Seriennummer von Fundlandschaft...\")\n",
    "            arachnesnr = seriennummern_titel_konkordanz_dict[fundlandschaft]\n",
    "            df_import.loc[zeile,\"Arachne-Snr\"] = arachnesnr\n",
    "    elif fundlandschaft == \"ka\" and fundland != \"ka\":\n",
    "        if fundland not in seriennummern_titel_konkordanz_dict:\n",
    "            print(\"Unbekannte Fundplatzzuordnung!\")\n",
    "            df_import.loc[zeile,\"Arachne-Snr\"] = \"Unbekannte Fundplatzzuordnung!\"\n",
    "            df_fehler = df_fehler.append(df_import.iloc[[zeile]])\n",
    "        else:\n",
    "            print(\"Nehme Seriennummer von Fundland...\")\n",
    "            arachnesnr = seriennummern_titel_konkordanz_dict[fundland]\n",
    "            df_import.loc[zeile,\"Arachne-Snr\"] = arachnesnr\n",
    "    else: \n",
    "        print(\"Unbekannte Fundplatzzuordnung!\")\n",
    "        df_import.loc[zeile,\"Arachne-Snr\"] = \"Unbekannte Fundplatzzuordnung!\"\n",
    "        df_fehler = df_fehler.append(df_import.iloc[[zeile]])"
   ]
  },
  {
   "cell_type": "markdown",
   "metadata": {},
   "source": [
    "#### 1.5 Test, ob letzte Zeile in der Improttabelle korrekt ist"
   ]
  },
  {
   "cell_type": "code",
   "execution_count": null,
   "metadata": {},
   "outputs": [],
   "source": [
    "print(df_import.at[zeile, \"Arachne-Snr\"])\n",
    "print(df_import.iloc[[zeile]])"
   ]
  },
  {
   "cell_type": "markdown",
   "metadata": {},
   "source": [
    "#### 1.6 Neue Importtabelle und Tabelle mit Aussortierten exportieren, sofern Datensätze aussortiert wurden."
   ]
  },
  {
   "cell_type": "code",
   "execution_count": null,
   "metadata": {},
   "outputs": [],
   "source": [
    "if df_fehler.empty:\n",
    "    print(\"Seriennummernzuordnung in Ordnung!\")\n",
    "else:\n",
    "    print(\"Es müssen Seriennummern nachgetragen werden oder Fundplatzzuordnungen sind fehlerhaft! Siehe fehler.csv!\")\n",
    "    df_fehler.to_csv(f\"{arbeitsverzeichnis}//fehler.csv\", sep=\";\", encoding=\"utf-8\")\n",
    "    \n",
    "if df_artefakte.empty:\n",
    "    print(\"Es sind keine weiteren Artefakte nachzutragen!\")\n",
    "else:\n",
    "    print(\"Es müssen Artefakte nachgetragen werden! Siehe Artefaktliste.csv!\")\n",
    "    df_artefakte.to_csv(f\"{arbeitsverzeichnis}//artefaktliste.csv\", sep=\";\", encoding=\"utf-8\")\n",
    "    \n",
    "    \n",
    "    df_import.to_csv(f\"{arbeitsverzeichnis}//df_import.csv\", sep=\";\", encoding=\"utf-8\")"
   ]
  },
  {
   "cell_type": "markdown",
   "metadata": {},
   "source": [
    "In der Tabelle AussortierteBilder.csv befinden sich jetzt alle Bilder mit Materialangaben oder Fehlern bei der Seriennummern-Zuordnung.\n",
    "Alle Fehler sollten behebt werden und der Vorgang wiederholt werden, bis keine Fehlermeldungen mehr in der Tabelle vorhanden sind.\n",
    "Dann kann die Tabelle df_import.csv für den weiteren Prozess verwednet werden bzw. die Tabelle AussortierteBilder.csv zum Anlegen der Inventarobjekte.\n",
    "\n",
    "ACHTUNG! Die Datei df_import.csv enthält alle Bildmetadaten - auch die der aussortierten. Wenn ein Umbennen und Verschieben durchgeführt werden soll, müssen die Datensätze ohne Seriennummer manuell aus df_import.csv entfernt werden. Ansonsten werden die Meldungen \"Unbekannte Fundplatzzuordnung!\" oder \"Neue Seriennummer benötigt!\" als Seriennummern in den Bestand aufgenommen."
   ]
  },
  {
   "cell_type": "markdown",
   "metadata": {},
   "source": [
    "### TEIL 2 - Umbenennen und Verschieben der Bilder\n",
    "#### 2.0 Modus einstellen\n",
    "Sollen mit artefaktliste.csv (die alle nachgetragenen Seriennummern enthalten muss!) Artefaktbilder umbenannt und verschoben werden, ist hier \"True\" anzugeben. Anderfalls - für Topographien - \"False\"."
   ]
  },
  {
   "cell_type": "code",
   "execution_count": null,
   "metadata": {},
   "outputs": [],
   "source": [
    "artefaktimport = False"
   ]
  },
  {
   "cell_type": "markdown",
   "metadata": {},
   "source": [
    "#### 2.1 Variablen definieren\n",
    "Alte und neue Bildnamen werden in ein dictionary überführt. Hier ist die entsprechende CSV anzugeben."
   ]
  },
  {
   "cell_type": "code",
   "execution_count": null,
   "metadata": {
    "scrolled": true
   },
   "outputs": [],
   "source": [
    "col_list = [\"Bildnamen\",\"Arachne-Snr\"]\n",
    "\n",
    "if artefaktimport == False:\n",
    "    df = pd.read_csv(f\"{arbeitsverzeichnis}//df_import.csv\", sep=\";\", usecols=col_list, encoding=\"utf-8\")\n",
    "else:\n",
    "    df = pd.read_csv(f\"{arbeitsverzeichnis}//artefaktliste.csv\", sep=\";\", usecols=col_list, encoding=\"utf-8\")\n",
    "    \n",
    "bildnamen = list(df[\"Bildnamen\"])\n",
    "#neuenamen = list(df[\"NeuerBildname\"])\n",
    "seriennummern = list(df[\"Arachne-Snr\"])\n",
    "srndict = dict(zip(bildnamen, seriennummern))\n",
    "print(srndict)\n",
    "print(seriennummern)\n",
    "#Check 4 - renamedict korrekt?\n",
    "#Check 5 - seriennummern korrekt?"
   ]
  },
  {
   "cell_type": "markdown",
   "metadata": {},
   "source": [
    "#### 2.2 Aktuellen Stand der laufenden Nummer einlesen\n",
    "Stand der laufenden Nummern einlesen und Dictionary mit aktuellem Stand der laufenden Nummer erzeugen."
   ]
  },
  {
   "cell_type": "code",
   "execution_count": null,
   "metadata": {},
   "outputs": [],
   "source": [
    "col_list = [\"Seriennummer\",\"StandlfdNr\"]\n",
    "df = pd.read_csv(f\"{arbeitsverzeichnis}\\\\{stand}\", sep=\",\", usecols=col_list, encoding = \"utf-8\")\n",
    "alleseriennummern =list(df[\"Seriennummer\"])\n",
    "standlfdnr = list(df[\"StandlfdNr\"])\n",
    "standdict = dict(zip(alleseriennummern, standlfdnr))\n",
    "print(standdict)"
   ]
  },
  {
   "cell_type": "markdown",
   "metadata": {},
   "source": [
    "#### 2.3 Renamedict erzeugen:\n",
    "Das \"Renamedict\" ist eine Konkordanz zwischen altem Bildnamen und neuem Bildnamen."
   ]
  },
  {
   "cell_type": "code",
   "execution_count": null,
   "metadata": {},
   "outputs": [],
   "source": [
    "renamedict = {}\n",
    "for bild in bildnamen:\n",
    "    alter_bildname = bild.strip(\".tif\")\n",
    "    seriennummer = srndict[bild]\n",
    "    if seriennummer in standdict:\n",
    "        newcount = (standdict.get(seriennummer))+ 1\n",
    "        standdict.update({seriennummer:newcount})\n",
    "        if len(str(newcount))==1:\n",
    "            newname = f\"{alter_bildname}_{seriennummer},00{newcount}.tif\"\n",
    "        elif len(str(newcount))==2:\n",
    "            newname = f\"{alter_bildname}_{seriennummer},0{newcount}.tif\"\n",
    "        else:\n",
    "            newname = f\"{alter_bildname}_{seriennummer},{newcount}.tif\"\n",
    "    else:\n",
    "        standdict[seriennummer]=3\n",
    "        startcount=3\n",
    "        newname = f\"{alter_bildname}_{seriennummer},00{startcount}.tif\"\n",
    "        print(f\"Neue Seriennummer {seriennummer} im aktuellen Stand angelegt!\")\n",
    "    renamedict[bild]=newname\n",
    "#print zu Kontrolle\n",
    "print(standdict)\n",
    "print(renamedict)"
   ]
  },
  {
   "cell_type": "markdown",
   "metadata": {},
   "source": [
    "#### 2.4 Superwichtig!\n",
    "Dictionary mit neu aufgezähltem Stand der laufenden Nummern in .csv speichern.\n",
    "\n",
    "**Unbedingt speichern und beim nächsten Mal für den Stand der laufenden Nummer verwenden!**"
   ]
  },
  {
   "cell_type": "code",
   "execution_count": null,
   "metadata": {},
   "outputs": [],
   "source": [
    "with open(f\"{arbeitsverzeichnis}\\\\NeuerStand.csv\", \"w\") as f:\n",
    "    fieldnames = [\"Seriennummer\",\"StandlfdNr\"]\n",
    "    writer = csv.DictWriter(f, fieldnames=fieldnames)\n",
    "    writer.writeheader()\n",
    "    for key in standdict.keys():\n",
    "        f.write(\"%s, %s\\n\" % (key, standdict[key]))"
   ]
  },
  {
   "cell_type": "markdown",
   "metadata": {},
   "source": [
    "#### 2.5 Dateifinder aktivieren\n",
    "Diese Funktion durchsucht den Verzeichnispfad."
   ]
  },
  {
   "cell_type": "code",
   "execution_count": null,
   "metadata": {},
   "outputs": [],
   "source": [
    "def find_all(name, path):\n",
    "    result = []\n",
    "    for root, dirs, files in os.walk(path):\n",
    "        if name in files:\n",
    "            result.append(os.path.join(root))\n",
    "        #else: print(\"Name is invalid!\")\n",
    "    return result\n",
    "#Check 6 - find_all aktiviert?"
   ]
  },
  {
   "cell_type": "markdown",
   "metadata": {},
   "source": [
    "#### 2.6 Umbenennen"
   ]
  },
  {
   "cell_type": "code",
   "execution_count": null,
   "metadata": {},
   "outputs": [],
   "source": [
    "#Diese Variablen sind für die Anzeige des Umbennenungsfortschritts in Prozent\n",
    "x=0\n",
    "gesamtzahl = len(bildnamen)\n",
    "\n",
    "#Dieser Loop bennent die Bilder um\n",
    "for bildnamen in renamedict:\n",
    "    newname = renamedict.get(bildnamen)\n",
    "    pfad_list = find_all(bildnamen, quellverzeichnis)\n",
    "    pfad = \"\".join(pfad_list)\n",
    "    src =f\"{pfad}/{bildnamen}\"\n",
    "    dst =f\"{pfad}/{newname}\"\n",
    "    if os.path.isfile(src):\n",
    "        os.rename(src, dst)\n",
    "        print (f\"{bildnamen} wurde erfolgreich umbenannt.\")\n",
    "        x = x+1\n",
    "    else:\n",
    "        print (f\" {bildnamen} existiert nicht!\")\n",
    "    xfortschritt = (x*100)/gesamtzahl\n",
    "    xfortschritt = round(xfortschritt, 2)\n",
    "    print(f\"{xfortschritt}% abgeschlossen\")"
   ]
  },
  {
   "cell_type": "markdown",
   "metadata": {},
   "source": [
    "#### 2.7 Ordner erstellen"
   ]
  },
  {
   "cell_type": "code",
   "execution_count": null,
   "metadata": {},
   "outputs": [],
   "source": [
    "#Verzeichnisse nach Seriennummern erstellen\n",
    "for nummer in seriennummern:\n",
    "    newfolder = f\"{zielverzeichnis}/{nummer}\"\n",
    "    datenbankfertig = f\"{zielverzeichnis}/{nummer}/datenbankfertig\"\n",
    "    arbeitskopie = f\"{zielverzeichnis}/{nummer}/datenbankfertig/optimale Arbeitskopie\"\n",
    "    druckfertig =  f\"{zielverzeichnis}/{nummer}/druckfertig\"\n",
    "    version =  f\"{zielverzeichnis}/{nummer}/druckfertig/druckfertig 2. Version\"\n",
    "    rohscans =  f\"{zielverzeichnis}/{nummer}/Rohscans\"\n",
    "    raws =  f\"{zielverzeichnis}/{nummer}/Rohscans/Rohscans-RAWs\"\n",
    "    sonstig =  f\"{zielverzeichnis}/{nummer}/Rohscans/Rohscans-sonstig\"\n",
    "    if not os.path.exists(newfolder):\n",
    "        os.makedirs(newfolder)\n",
    "    if not os.path.exists(datenbankfertig):\n",
    "        os.makedirs(datenbankfertig)\n",
    "    if not os.path.exists(druckfertig):\n",
    "        os.makedirs(druckfertig)\n",
    "    if not os.path.exists(rohscans):\n",
    "        os.makedirs(rohscans)\n",
    "    if not os.path.exists(arbeitskopie):\n",
    "        os.makedirs(arbeitskopie)\n",
    "    if not os.path.exists(version):\n",
    "        os.makedirs(version)\n",
    "    if not os.path.exists(raws):\n",
    "        os.makedirs(raws)\n",
    "    if not os.path.exists(sonstig):\n",
    "        os.makedirs(sonstig)"
   ]
  },
  {
   "cell_type": "markdown",
   "metadata": {},
   "source": [
    "#### 2.8 Bilder in Ordner verschieben"
   ]
  },
  {
   "cell_type": "code",
   "execution_count": null,
   "metadata": {},
   "outputs": [],
   "source": [
    "#Alle Dateien finden und verschieben\n",
    "import shutil\n",
    "\n",
    "#Diese Variablen sind für die Anzeige des Verschiebungsfortschritts in Prozent\n",
    "y=0\n",
    "gesamtzahl = len(bildnamen)\n",
    "\n",
    "for bild in renamedict.values():\n",
    "    pfad_list = find_all(bild, quellverzeichnis)\n",
    "    pfad = \"\".join(pfad_list)\n",
    "    source = f\"{pfad}/{bild}\"\n",
    "    if os.path.isfile(source):\n",
    "        direction1 = bild.split(\"_\")[1]\n",
    "        direction2 = direction1.split(\",\")[0]\n",
    "        destination = f\"{zielverzeichnis}/{direction2}/Rohscans\"\n",
    "        test = f\"{destination}/{bild}\"\n",
    "        if os.path.isfile(test):\n",
    "            print(f\"Das Bild {bild} wurde bereits verschoben!\")\n",
    "        else:\n",
    "            shutil.move(source, destination)\n",
    "            print (f\"{bild} wurde erfolgreich verschoben.\")\n",
    "            y = y+1\n",
    "    else:\n",
    "        print (f\" {bild} existiert nicht!\")\n",
    "    yfortschritt = (y*100)/gesamtzahl\n",
    "    yfortschritt = round(yfortschritt, 2)\n",
    "    print(f\"{yfortschritt}% abgeschlossen\")"
   ]
  },
  {
   "cell_type": "markdown",
   "metadata": {},
   "source": [
    "### 3. Extras und experimenteller Bereich\n",
    "Hier bitte nichts ausführen ohne genau zu wissen, was passiert!"
   ]
  },
  {
   "cell_type": "code",
   "execution_count": null,
   "metadata": {},
   "outputs": [],
   "source": [
    "#EXTRA 1 - Seriennummer und laufende Nummer umstellen\n",
    "\n",
    "#Sollte sich wieder einmal das Schema ändern, kann mit dieser Funktion nachträglich Sereinnummer und laufende Nummer\n",
    "#bei bereits fertig umbenannten Bildern getauscht werden. Wichtig zu beachten:\n",
    "#1. Reihung der parts\n",
    "#2. Verzeichnisangabe für die find_all-Funktion\n",
    "\n",
    "x=0\n",
    "gesamtzahl = len(neuenamen)\n",
    "print(neuenamen)\n",
    "\n",
    "for bild in neuenamen:\n",
    "    part1 = bild.split(\"_\")[0]\n",
    "    part2 = bild.split(\"_\")[1]\n",
    "    part3 = part2.split(\".\")[0]\n",
    "    newname = f\"{part3}_{part1}.tif\"\n",
    "    repairdict = {}\n",
    "    repairdict[bild]=newname\n",
    "    pfad_list = find_all(bild, zielverzeichnis)\n",
    "    pfad = \"\".join(pfad_list)\n",
    "    src =f\"{pfad}/{bild}\"\n",
    "    dst =f\"{pfad}/{newname}\"\n",
    "    if os.path.isfile(src):\n",
    "        os.rename(src, dst)\n",
    "        print (f\"{bild} wurde erfolgreich umbenannt.\")\n",
    "        x = x+1\n",
    "    else:\n",
    "        print (f\" {bild} existiert nicht!\")\n",
    "        x = x+1\n",
    "    fortschritt = (x*100)/gesamtzahl\n",
    "    fortschritt = round(fortschritt, 2)\n",
    "    print(f\"{fortschritt}% abgeschlossen\")"
   ]
  },
  {
   "cell_type": "code",
   "execution_count": null,
   "metadata": {},
   "outputs": [],
   "source": [
    "#Experimenteller Bereich ab hier:"
   ]
  },
  {
   "cell_type": "code",
   "execution_count": null,
   "metadata": {},
   "outputs": [],
   "source": [
    "#Zählen der laufenden Nummer\n",
    "testbild = \"DIA12984-234-SFB234_23452,34\"\n",
    "#wenn ein Bild umbenannt wird...\n",
    "cutdianame = testbild.split(\"_\")[1]\n",
    "cutnr = cutdianame.split(\",\")[0]\n",
    "cutnr=int(cutnr)\n",
    "print(cutnr)\n",
    "newcount = (standdict.get(cutnr))+ 1\n",
    "print(newcount)\n",
    "standdict.update({cutnr:newcount})\n",
    "print(standdict)\n"
   ]
  },
  {
   "cell_type": "code",
   "execution_count": null,
   "metadata": {},
   "outputs": [],
   "source": [
    "#Keys in string\n",
    "for key in standdict:\n",
    "    newkey = str(key)\n",
    "    print(newkey)\n",
    "print(standdict)"
   ]
  },
  {
   "cell_type": "code",
   "execution_count": null,
   "metadata": {},
   "outputs": [],
   "source": [
    "a = {\"hello\":1234,\"test\":23453,\"david\":2342345}\n",
    "print(a.get(\"hello\"))"
   ]
  },
  {
   "cell_type": "code",
   "execution_count": null,
   "metadata": {},
   "outputs": [],
   "source": [
    "#Alle .tifs in einem Zielverzeichnis finden und in eine Liste packen\n",
    "import pathlib\n",
    "fileExt = r\"**\\*.tif\"\n",
    "torepair = list(str(_) for _ in pathlib.Path(zielverzeichnis).glob(fileExt))\n",
    "print(torepair)"
   ]
  },
  {
   "cell_type": "code",
   "execution_count": null,
   "metadata": {},
   "outputs": [],
   "source": [
    "#Teile der Bidnamen in .csv listen\n",
    "import csv\n",
    "for bild in torepair:\n",
    "    part0 = bild.split(\"\\\\\")[-1]\n",
    "    part1 = part0.split(\"_\")[0]\n",
    "    part2 = part0.split(\"_\")[1]\n",
    "    csvrow = []\n",
    "    csvrow.append(part1)\n",
    "    csvrow.append(part0)\n",
    "    csvrow.append(part2)\n",
    "    print(csvrow)\n",
    "    f = open(\"D:\\\\Testzielverzeichnis\\\\newnames.csv\", \"w\", encoding=\"UTF8\",newline = \"\")\n",
    "    writer = csv.writer(f, delimiter=\";\")\n",
    "    writer.writerow(csvrow)\n",
    "    f.close()"
   ]
  },
  {
   "cell_type": "code",
   "execution_count": null,
   "metadata": {},
   "outputs": [],
   "source": [
    "for bild in torepair:\n",
    "    part0 = bild.split(\"\\\\\")[-1]\n",
    "    part1 = part0.split(\"_\")[0]\n",
    "    part2 = part0.split(\"_\")[1]\n",
    "    part3 = part2.split(\".\")[0]\n",
    "    newname = f\"{part3}_{part1}.tif\"\n",
    "    print(repr(bild))\n",
    "    print(part0)\n",
    "    print(part1)\n",
    "    print(part2)\n",
    "    print(part3)\n",
    "    #print(newname)\n",
    "    renamedict2 = {}\n",
    "    renamedict2[part0]=newname\n",
    "    print(renamedict2)"
   ]
  },
  {
   "cell_type": "code",
   "execution_count": null,
   "metadata": {},
   "outputs": [],
   "source": [
    "test = \"2323453,009_testbild.tif\"\n",
    "part1 = test.split(\"_\")[0]\n",
    "part2 = test.split(\"_\")[1]\n",
    "part3 = part2.split(\".\")[0]\n",
    "newname = f\"{part3}_{part1}.tif\"\n",
    "print(test)\n",
    "print(newname)\n",
    "renamedict2 = {}\n",
    "renamedict2[test]=newname\n",
    "print(renamedict2)"
   ]
  },
  {
   "cell_type": "code",
   "execution_count": null,
   "metadata": {},
   "outputs": [],
   "source": [
    "    newname = renamedict.get(bildnamen)\n",
    "    pfad_list = find_all(bildnamen, quellverzeichnis)\n",
    "    pfad = \"\".join(pfad_list)\n",
    "    src =f\"{pfad}/{bildnamen}\"\n",
    "    dst =f\"{pfad}/{newname}\"\n",
    "    if os.path.isfile(src):\n",
    "        os.rename(src, dst)\n",
    "        print (f\"{bildnamen} wurde erfolgreich umbenannt.\")\n",
    "        x = x+1\n",
    "    else:\n",
    "        print (f\" {bildnamen} existiert nicht!\")\n",
    "    fortschritt = (x*100)/gesamtzahl\n",
    "    fortschritt = round(fortschritt, 2)\n",
    "    print(f\"{fortschritt}% abgeschlossen\")"
   ]
  },
  {
   "cell_type": "code",
   "execution_count": null,
   "metadata": {},
   "outputs": [],
   "source": [
    "a = \"Bildname_Seriennummer,234\"\n",
    "snr1 = a.split(\"_\")[1]\n",
    "snr2 = snr1.split(\",\")[0]\n",
    "print(snr2)"
   ]
  },
  {
   "cell_type": "code",
   "execution_count": null,
   "metadata": {},
   "outputs": [],
   "source": [
    "class RenamePictures:\n",
    "    def __init__(self, bildname, neuername, pfad)\n",
    "    self.bildname = bildname\n",
    "    self.neuername = neuername\n",
    "    self.pfad = pfad\n",
    "    \n",
    "    def __renamedict(self):\n",
    "        col_list = [\"Bildname\", \"NeuerBildname\"]\n",
    "        "
   ]
  },
  {
   "cell_type": "code",
   "execution_count": null,
   "metadata": {},
   "outputs": [],
   "source": [
    "string = \"128471924_hallo\"\n",
    "print(string.split(\"_\")[0])"
   ]
  },
  {
   "cell_type": "code",
   "execution_count": null,
   "metadata": {},
   "outputs": [],
   "source": [
    "print(neuenamen)"
   ]
  }
 ],
 "metadata": {
  "kernelspec": {
   "display_name": "Python 3",
   "language": "python",
   "name": "python3"
  },
  "language_info": {
   "codemirror_mode": {
    "name": "ipython",
    "version": 3
   },
   "file_extension": ".py",
   "mimetype": "text/x-python",
   "name": "python",
   "nbconvert_exporter": "python",
   "pygments_lexer": "ipython3",
   "version": "3.7.6"
  },
  "vscode": {
   "interpreter": {
    "hash": "8540791a84c9dd273039c82e4c4906b2f22bd80b7ff15c37ffcc5926b6e4ab9b"
   }
  }
 },
 "nbformat": 4,
 "nbformat_minor": 4
}
